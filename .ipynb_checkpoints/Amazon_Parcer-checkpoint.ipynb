{
 "cells": [
  {
   "cell_type": "markdown",
   "metadata": {},
   "source": [
    "# Importing essential libraries"
   ]
  },
  {
   "cell_type": "code",
   "execution_count": 1,
   "metadata": {},
   "outputs": [],
   "source": [
    "import requests\n",
    "from bs4 import BeautifulSoup \n",
    "import csv\n",
    "import time"
   ]
  },
  {
   "cell_type": "markdown",
   "metadata": {},
   "source": [
    "# Getting user input"
   ]
  },
  {
   "cell_type": "code",
   "execution_count": 2,
   "metadata": {},
   "outputs": [
    {
     "name": "stdout",
     "output_type": "stream",
     "text": [
      "Enter search terms:keyboard\n"
     ]
    }
   ],
   "source": [
    "search_term = str(input('Enter search terms:'))"
   ]
  },
  {
   "cell_type": "code",
   "execution_count": 3,
   "metadata": {},
   "outputs": [],
   "source": [
    "search_term = search_term.replace(' ','+')"
   ]
  },
  {
   "cell_type": "markdown",
   "metadata": {},
   "source": [
    "# Declaring variables"
   ]
  },
  {
   "cell_type": "code",
   "execution_count": 4,
   "metadata": {},
   "outputs": [],
   "source": [
    "names = []\n",
    "pricing = []\n",
    "ratings = []\n",
    "num_ratings = []\n",
    "links = []"
   ]
  },
  {
   "cell_type": "markdown",
   "metadata": {},
   "source": [
    "## Parcing amazon and storing relevant data"
   ]
  },
  {
   "cell_type": "code",
   "execution_count": 5,
   "metadata": {},
   "outputs": [],
   "source": [
    "for i in range(1,6):\n",
    "    # Creating Amazon url based on user input and current page number\n",
    "    search_url = 'https://www.amazon.in/s?k={}&page={}&ref=nb_sb_noss_2'.format(search_term,i)\n",
    "    # Storing webpage content\n",
    "    webpage = requests.get(search_url)\n",
    "    # Parcing webpage contents using BeautifulSoup\n",
    "    soup = BeautifulSoup(webpage.content,'html.parser')\n",
    "    # Iterating through parent class containing all required subclasses\n",
    "    for d in  soup.findAll('div',attrs={'class':'sg-col-4-of-12 sg-col-8-of-16 sg-col-16-of-24 sg-col-12-of-20 sg-col-24-of-32 sg-col sg-col-28-of-36 sg-col-20-of-28'}):\n",
    "        # Subclass containing name of the product\n",
    "        name = d.find('span',attrs={'class':'a-size-medium a-color-base a-text-normal'})\n",
    "        if(name==None):\n",
    "            continue\n",
    "        else:\n",
    "            names.append(name.text)\n",
    "        # Subclass containing price   \n",
    "        price = d.find('span',attrs={'class':'a-price-whole'})\n",
    "        if(price==None):\n",
    "            pricing.append('N.A.')\n",
    "        else:\n",
    "            pricing.append(price.text)\n",
    "        # Subclass containing rating(out of five) \n",
    "        rate = d.find('span',attrs={'class':'a-icon-alt'})\n",
    "        if(rate==None):\n",
    "            ratings.append('N.A.')\n",
    "        else:\n",
    "            ratings.append(rate.text)\n",
    "        # Subclass containing total number of ratings \n",
    "        nr = d.find('span',attrs={'class':'a-size-base'})\n",
    "        if(nr==None):\n",
    "            num_ratings.append('N.A.')\n",
    "        else:\n",
    "            num_ratings.append(nr.text)\n",
    "        # Subclass containing hyperlink \n",
    "        link = d.find('a',attrs={'class':'a-link-normal a-text-normal'})\n",
    "        if(link==None):\n",
    "            links.append('N.A.')\n",
    "        else:\n",
    "            link = link.get('href')\n",
    "            links.append('www.amazon.in'+link)\n",
    "    # Wait for 1 sec \n",
    "    time.sleep(1)"
   ]
  },
  {
   "cell_type": "markdown",
   "metadata": {},
   "source": [
    "## slicing the ratings\n",
    "      eg.: getting '3.9' out of '3.9 out of 5.0'"
   ]
  },
  {
   "cell_type": "code",
   "execution_count": 6,
   "metadata": {},
   "outputs": [],
   "source": [
    "ratings = [rating[0:3] for rating in ratings]"
   ]
  },
  {
   "cell_type": "markdown",
   "metadata": {},
   "source": [
    "## Creating the table"
   ]
  },
  {
   "cell_type": "code",
   "execution_count": 7,
   "metadata": {},
   "outputs": [],
   "source": [
    "rows = []\n",
    "for i in range(len(names)):\n",
    "    row = [names[i],pricing[i],ratings[i],num_ratings[i],links[i]]\n",
    "    rows.append(row)"
   ]
  },
  {
   "cell_type": "markdown",
   "metadata": {},
   "source": [
    "## Defining column names of the file"
   ]
  },
  {
   "cell_type": "code",
   "execution_count": 8,
   "metadata": {},
   "outputs": [],
   "source": [
    "headers = ['name of the product','pricing','rating','number of ratings','URL']"
   ]
  },
  {
   "cell_type": "markdown",
   "metadata": {},
   "source": [
    "## Declaring and writing in a .csv file"
   ]
  },
  {
   "cell_type": "code",
   "execution_count": 10,
   "metadata": {},
   "outputs": [],
   "source": [
    "filename = 'Amazon_parcer.csv'\n",
    "with open(filename,'w') as csvfile:\n",
    "    csvwriter = csv.writer(csvfile)\n",
    "    csvwriter.writerow(headers)\n",
    "    csvwriter.writerows(rows)"
   ]
  }
 ],
 "metadata": {
  "kernelspec": {
   "display_name": "Python 3",
   "language": "python",
   "name": "python3"
  },
  "language_info": {
   "codemirror_mode": {
    "name": "ipython",
    "version": 3
   },
   "file_extension": ".py",
   "mimetype": "text/x-python",
   "name": "python",
   "nbconvert_exporter": "python",
   "pygments_lexer": "ipython3",
   "version": "3.7.0"
  }
 },
 "nbformat": 4,
 "nbformat_minor": 2
}
